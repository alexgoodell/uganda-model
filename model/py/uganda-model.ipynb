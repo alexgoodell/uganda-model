{
 "cells": [
  {
   "cell_type": "markdown",
   "metadata": {},
   "source": [
    "\n",
    "# Descriptive information about anesthetists\n",
    "\n",
    "So far, no one has described the current data available for the number or distribution of the various cadres of anethetists in Uganda. \n",
    "\n",
    "My primary questions concern both physician anesthestics and non-physician anesthestists. Primarily,\n",
    "- How many are there?\n",
    "- Where are they (ie, distributed rural vs urban)?\n",
    "- How were they educated?\n",
    "- How much money do they make?\n",
    "- How many are being trained?\n",
    "\n",
    "Note: My citations will look funny in this notebook. Please see this [BibTex file](https://github.com/alexgoodell/uganda-model/blob/master/refs/library.bib) for the current list of my citations.\n",
    "\n",
    "## Physician anesthetists\n",
    "\n",
    "Data concerning the number and location of physician anesthetists was obtained from the Uganda Medical and Dental Practitioners Council Registry website <cite data-cite=\"umdpc2018reg\"><a href=\"#ref-umdpc2018reg\">(umdpc2018reg)</a></cite>. "
   ]
  },
  {
   "cell_type": "code",
   "execution_count": 5,
   "metadata": {},
   "outputs": [
    {
     "name": "stdout",
     "output_type": "stream",
     "text": [
      "Overwriting latex-cite.tpl\n"
     ]
    }
   ],
   "source": [
    "\n"
   ]
  },
  {
   "cell_type": "code",
   "execution_count": 7,
   "metadata": {},
   "outputs": [
    {
     "data": {
      "text/latex": [
       "\\begin{align}\n",
       "\\nabla \\times \\vec{\\mathbf{B}} -\\, \\frac1c\\, \\frac{\\partial\\vec{\\mathbf{E}}}{\\partial t} & = \\frac{4\\pi}{c}\\vec{\\mathbf{j}} \\\\\n",
       "\\nabla \\cdot \\vec{\\mathbf{E}} & = 4 \\pi \\rho \\\\\n",
       "\\nabla \\times \\vec{\\mathbf{E}}\\, +\\, \\frac1c\\, \\frac{\\partial\\vec{\\mathbf{B}}}{\\partial t} & = \\vec{\\mathbf{0}} \\\\\n",
       "\\nabla \\cdot \\vec{\\mathbf{B}} & = 0\n",
       "\\end{align}"
      ],
      "text/plain": [
       "<IPython.core.display.Latex object>"
      ]
     },
     "metadata": {},
     "output_type": "display_data"
    }
   ],
   "source": []
  },
  {
   "cell_type": "markdown",
   "metadata": {},
   "source": [
    "<div id=\"refs\" class=\"references\">\n",
    "<div id=\"ref-aau2018\" stlye=\"margin-top:10px\">\n",
    "<p> --- aau2018 --- Association of Anesthesiologist of Uganda. (2018). Bachelors of science in anaesthesia. Retrieved from <a href=\"http://www.anesthesiaug.org/bachelors/\" class=\"uri\">http://www.anesthesiaug.org/bachelors/</a></p>\n",
    "</div>\n",
    "<div id=\"ref-ahpcschools2016\">\n",
    "<p> --- ahpcschools2016 --- uganda allied health professionals council. (2016). AHPC recognized training institutions 2016. Retrieved from <a href=\"http://www.ahpc.ug/schools.php\" class=\"uri\">http://www.ahpc.ug/schools.php</a></p>\n",
    "</div>\n",
    "<div id=\"ref-Banerjee2005Mar\">\n",
    "<p> --- Banerjee2005Mar --- Banerjee, S., Faiz, O., Rennie, J. A., Balyejjusa, J., &amp; Walsh, M. (2005). Bridging the health gap in Uganda: The surgical role of the clinical officer. <em>Afr. Health Sci.</em>, <em>5</em>(1), 86–89. Retrieved from <a href=\"http://www.ncbi.nlm.nih.gov/pmc/articles/PMC1831898\" class=\"uri\">http://www.ncbi.nlm.nih.gov/pmc/articles/PMC1831898</a></p>\n",
    "</div>\n",
    "<div id=\"ref-dsco2012\">\n",
    "<p> --- dsco2012 --- DISTRICT SERVICE COMMISSIONS OF UGANDA. (2012). DISTRICT service commissions of uganda health vacancies. DISTRICT SERVICE COMMISSIONS OF UGANDA. Retrieved from <a href=\"http://health.go.ug/docs/final_advert.pdf\" class=\"uri\">http://health.go.ug/docs/final_advert.pdf</a></p>\n",
    "</div>\n",
    "<div id=\"ref-examboard2015\">\n",
    "<p> --- examboard2015 --- Uganda Allied Health Examinations Board. (2015). Newsletter. Retrieved from <a href=\"http://uaheb.go.ug/wp-content/uploads/2016/06/Newsletter.pdf\" class=\"uri\">http://uaheb.go.ug/wp-content/uploads/2016/06/Newsletter.pdf</a></p>\n",
    "</div>\n",
    "<div id=\"ref-examboardschools\">\n",
    "<p> --- examboardschools --- Uganda Allied Health Examinations Board. (2018). Accredited school. Retrieved from <a href=\"http://uaheb.go.ug/accredited-schools/\" class=\"uri\">http://uaheb.go.ug/accredited-schools/</a></p>\n",
    "</div>\n",
    "<div id=\"ref-hcsurvey2014\">\n",
    "<p> --- hcsurvey2014 --- African Development Bank, M. W. (2014). Uganda hospital and health centre iv census survey. Retrieved from <a href=\"http://www.who.int/healthinfo/systems/SARA_H_UGA_Results_2014.pdf\" class=\"uri\">http://www.who.int/healthinfo/systems/SARA_H_UGA_Results_2014.pdf</a></p>\n",
    "</div>\n",
    "<div id=\"ref-intra2015\">\n",
    "<p> --- intra2015 --- Vincent Oketcho, J. O., Isaac Ezati. (2015). UGANDA on track for keeping human resources for health commitments. Retrieved from <a href=\"http://www.who.int/workforcealliance/media/news/2015/HRH_Commitments_Uganda_Case_Study.pdf\" class=\"uri\">http://www.who.int/workforcealliance/media/news/2015/HRH_Commitments_Uganda_Case_Study.pdf</a></p>\n",
    "</div>\n",
    "<div id=\"ref-kakande2011review\">\n",
    "<p> --- kakande2011review --- Kakande, I., Mkandawire, N., &amp; Thompson, M. (2011). A review of surgical capacity and surgical education programmes in the cosecsa region. <em>East and Central African Journal of Surgery</em>, <em>16</em>(3), 6–34. Retrieved from <a href=\"http://www.bioline.org.br/request?js11047\" class=\"uri\">http://www.bioline.org.br/request?js11047</a></p>\n",
    "</div>\n",
    "<div id=\"ref-Klopper2012-pp\">\n",
    "<p> --- Klopper2012-pp --- Klopper, H., &amp; Uys, L. R. (2012). <em>The State of Nursing and Nursing Education in Africa: A {Country-By-Country} Review</em>. Sigma Theta Tau.</p>\n",
    "</div>\n",
    "<div id=\"ref-lacoranes2018\">\n",
    "<p> --- lacoranes2018 --- Lacor School of Anesthesia. (2018). Lacor school of anesthesia. Retrieved from <a href=\"http://mambosms.ug/Data/atha/lacorh/?page_id=7346\" class=\"uri\">http://mambosms.ug/Data/atha/lacorh/?page_id=7346</a></p>\n",
    "</div>\n",
    "<div id=\"ref-Linden2012-sw\">\n",
    "<p> --- Linden2012-sw --- Linden, A. F., Sekidde, F. S., Galukande, M., Knowlton, L. M., Chackungal, S., &amp; McQueen, K. A. K. (2012). Challenges of surgery in developing countries: a survey of surgical and anesthesia capacity in Uganda’s public hospitals. <em>World J. Surg.</em>, <em>36</em>(5), 1056–1065.</p>\n",
    "</div>\n",
    "<div id=\"ref-mak2018\">\n",
    "<p> --- mak2018 --- Makarere University. (n.d.). Application requirements - direct entry. Retrieved from <a href=\"https://www.mak.ac.ug/application-procedures/direct-entry\" class=\"uri\">https://www.mak.ac.ug/application-procedures/direct-entry</a></p>\n",
    "</div>\n",
    "<div id=\"ref-MOH-hosp-list\">\n",
    "<p> --- MOH-hosp-list --- Ministry of Health. (2018). List of Hospitals. Retrieved from <a href=\"http://health.go.ug/affiliated-institutions/hospitals\" class=\"uri\">http://health.go.ug/affiliated-institutions/hospitals</a></p>\n",
    "</div>\n",
    "<div id=\"ref-mohscholar2017\">\n",
    "<p> --- mohscholar2017 --- Ministry of Health. (2017). ANNOUNCEMENT of scholarships for academic year 2017/2018. Retrieved from <a href=\"https://www.mnh.musph.ac.ug/wp-content/uploads/2016/10/MIN-OF-HEALTH.-scholarships.pdf\" class=\"uri\">https://www.mnh.musph.ac.ug/wp-content/uploads/2016/10/MIN-OF-HEALTH.-scholarships.pdf</a></p>\n",
    "</div>\n",
    "<div id=\"ref-mugalopara2013\">\n",
    "<p> --- mugalopara2013 --- Uganda Allied Health Institute and Management Sciences Mugalo. (2018). Post-basic programs uganda allied health institute and management sciences mugalo. Retrieved from <a href=\"http://uiahms.ac.ug/anaesthesia/\" class=\"uri\">http://uiahms.ac.ug/anaesthesia/</a></p>\n",
    "</div>\n",
    "<div id=\"ref-must2014\">\n",
    "<p> --- must2014 --- Mbarara University of Science and Technology. (n.d.). Admission Requirements. Retrieved from <a href=\"http://www.must.ac.ug/news/2014-must-private-admissions-advert\" class=\"uri\">http://www.must.ac.ug/news/2014-must-private-admissions-advert</a></p>\n",
    "</div>\n",
    "<div id=\"ref-roth2014role\">\n",
    "<p> --- roth2014role --- Roth, R., Frost, E. A., Gevirtz, C., &amp; Atcheson, C. L. (2014). <em>The role of anesthesiology in global health: A comprehensive guide</em>. Springer.</p>\n",
    "</div>\n",
    "<div id=\"ref-UBS2017\">\n",
    "<p> --- UBS2017 --- Ugandan Bureau of Statistics. (2017). Statistical Abstract.</p>\n",
    "</div>\n",
    "<div id=\"ref-umdpc2018reg\">\n",
    "<p> --- umdpc2018reg --- Uganda Medical and Dental Practitioners Council. (n.d.). Uganda medical and dental practitioners council registry. Retrieved from <a href=\"http://www.umdpc.com/registers.php\" class=\"uri\">http://www.umdpc.com/registers.php</a></p>\n",
    "</div>\n",
    "<div id=\"ref-UNFPA2009\">\n",
    "<p> --- UNFPA2009 --- United Nations Fund for Population Activities. (2009). The State of Midwifery Training, Service and Practice in Uganda Assessment Report, (July), 1–92.</p>\n",
    "</div>\n",
    "</div>"
   ]
  },
  {
   "cell_type": "code",
   "execution_count": null,
   "metadata": {},
   "outputs": [],
   "source": []
  }
 ],
 "metadata": {
  "celltoolbar": "Edit Metadata",
  "kernelspec": {
   "display_name": "Python 2",
   "language": "python",
   "name": "python2"
  },
  "language_info": {
   "codemirror_mode": {
    "name": "ipython",
    "version": 2
   },
   "file_extension": ".py",
   "mimetype": "text/x-python",
   "name": "python",
   "nbconvert_exporter": "python",
   "pygments_lexer": "ipython2",
   "version": "2.7.10"
  }
 },
 "nbformat": 4,
 "nbformat_minor": 2
}
