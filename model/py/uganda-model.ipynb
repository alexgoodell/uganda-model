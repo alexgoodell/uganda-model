{
 "cells": [
  {
   "cell_type": "markdown",
   "metadata": {
    "hide_input": false
   },
   "source": [
    "# Descriptive information about anesthetists\n",
    "\n",
    "So far, no one has described the current data available for the number or distribution of the various cadres of anethetists in Uganda. \n",
    "\n",
    "My primary questions concern both physician anesthestics and non-physician anesthestists. Primarily,\n",
    "- How many are there?\n",
    "- Where are they (ie, distributed rural vs urban)?\n",
    "- How were they educated?\n",
    "- How much money do they make?\n",
    "- How many are being trained?\n",
    "\n",
    "Note: My citations will look funny in this notebook. Please see this [BibTex file](https://github.com/alexgoodell/uganda-model/blob/master/refs/library.bib) for the current list of my citations.\n",
    "\n",
    "## Physician anesthetists\n",
    "\n",
    "According to the WFSA, in Uganda, there are 3,361 physicians (for a physician-to-population ratio of 0.18 per 100,000), 263 of which are surgerons, 72 of which are physican anesthtists, and 47 physician providers that have an anaesthetic qualification. <cite data-cite=\"wfsaug2018\"><a href=\"#ref-wfsaug2018\">(wfsaug2018)</a></cite>. In 2004, 2005, and 2015 (the only data published by the WHO) there were 2209, 3361, and 3645 physicians country-wide. <cite data-cite=\"whogho2018\"><a href=\"#ref-whogho2018\">(whogho2018)</a></cite>\n",
    "\n",
    "Data concerning the number and location of physician anesthetists was obtained from the Uganda Medical and Dental Practitioners Council Registry website <cite data-cite=\"umdpc2018reg\"><a href=\"#ref-umdpc2018reg\">(umdpc2018reg)</a></cite>.  Extracted data can be found in our GitHub repository, under \"data/umdpc/.\" Filenames were changed to exclude spaces and extract date was included in the title.\n"
   ]
  },
  {
   "cell_type": "code",
   "execution_count": 428,
   "metadata": {
    "hide_input": false
   },
   "outputs": [],
   "source": [
    "# import requirements (all found in /model/py/requirements.txt)\n",
    "import pandas as pd\n",
    "import numpy as np\n",
    "import os\n",
    "import matplotlib\n",
    "import matplotlib.pyplot as plt, mpld3\n",
    "import seaborn as sns\n",
    "from num2words import num2words\n",
    "from fuzzywuzzy import fuzz\n",
    "from fuzzywuzzy import process\n",
    "from __future__ import division\n",
    "from titlecase import titlecase\n",
    "\n",
    "# maximizes output\n",
    "verbose = False\n",
    "\n",
    "# function for easy printing\n",
    "def nprint(q):\n",
    "    print list(q.astype(str))\n",
    "    \n",
    "# function for conversion to title case\n",
    "def emtc(x):\n",
    "    if len(str(x)) > 5:\n",
    "        return titlecase(str(x))  \n",
    "    else:\n",
    "        return str(x)"
   ]
  },
  {
   "cell_type": "code",
   "execution_count": 429,
   "metadata": {},
   "outputs": [
    {
     "data": {
      "text/html": [
       "<div>\n",
       "<table border=\"1\" class=\"dataframe\">\n",
       "  <thead>\n",
       "    <tr style=\"text-align: right;\">\n",
       "      <th></th>\n",
       "      <th>Reg No.</th>\n",
       "      <th>Surname</th>\n",
       "      <th>Other Name</th>\n",
       "      <th>Sex</th>\n",
       "      <th>Employer</th>\n",
       "      <th>Postal Address</th>\n",
       "      <th>BOX</th>\n",
       "      <th>CITYTOWN</th>\n",
       "      <th>First Registration</th>\n",
       "      <th>PROFES</th>\n",
       "      <th>...</th>\n",
       "      <th>PROFES03</th>\n",
       "      <th>AWARD03</th>\n",
       "      <th>COUNTRY03</th>\n",
       "      <th>YEAR03</th>\n",
       "      <th>Unnamed: 30</th>\n",
       "      <th>PROFES04</th>\n",
       "      <th>AWARD04</th>\n",
       "      <th>COUNTRY04</th>\n",
       "      <th>YEAR04</th>\n",
       "      <th>Speciality</th>\n",
       "    </tr>\n",
       "  </thead>\n",
       "  <tbody>\n",
       "    <tr>\n",
       "      <th>0</th>\n",
       "      <td>H2441</td>\n",
       "      <td>AACA OKUI</td>\n",
       "      <td>LILLIAN</td>\n",
       "      <td>F</td>\n",
       "      <td>NaN</td>\n",
       "      <td>P.O BOX 7072, KAMPALA</td>\n",
       "      <td>7072</td>\n",
       "      <td>KAMPALA</td>\n",
       "      <td>MBChB,MUK,UGANDA,2003</td>\n",
       "      <td>MBChB</td>\n",
       "      <td>...</td>\n",
       "      <td>NaN</td>\n",
       "      <td>NaN</td>\n",
       "      <td>NaN</td>\n",
       "      <td>NaN</td>\n",
       "      <td>NaN</td>\n",
       "      <td>NaN</td>\n",
       "      <td>NaN</td>\n",
       "      <td>NaN</td>\n",
       "      <td>NaN</td>\n",
       "      <td>NaN</td>\n",
       "    </tr>\n",
       "    <tr>\n",
       "      <th>1</th>\n",
       "      <td>F0186</td>\n",
       "      <td>AANYU</td>\n",
       "      <td>HELLEN TUKAMUHEBWA</td>\n",
       "      <td>F</td>\n",
       "      <td>MULAGO HOSPITAL</td>\n",
       "      <td>P.O BOX 21846, KAMPALA</td>\n",
       "      <td>21846</td>\n",
       "      <td>KAMPALA</td>\n",
       "      <td>MBChB,MUST,UGANDA,1995</td>\n",
       "      <td>MBChB</td>\n",
       "      <td>...</td>\n",
       "      <td>CERT. PULMONOLOGY</td>\n",
       "      <td>CAPE TOWN &amp; RED CROSS</td>\n",
       "      <td>SA</td>\n",
       "      <td>2010</td>\n",
       "      <td>NaN</td>\n",
       "      <td>NaN</td>\n",
       "      <td>NaN</td>\n",
       "      <td>NaN</td>\n",
       "      <td>NaN</td>\n",
       "      <td>PAEDIATRIC PULMONOLOGY, ALLERGY</td>\n",
       "    </tr>\n",
       "    <tr>\n",
       "      <th>2</th>\n",
       "      <td>I3717</td>\n",
       "      <td>ABACH</td>\n",
       "      <td>JAMES</td>\n",
       "      <td>M</td>\n",
       "      <td>CASE MEDICAL CENTRE</td>\n",
       "      <td>P.O BOX 4547, KAMPALA</td>\n",
       "      <td>4547</td>\n",
       "      <td>KAMPALA</td>\n",
       "      <td>MBChB,MUK,UGANDA,2010</td>\n",
       "      <td>MBChB</td>\n",
       "      <td>...</td>\n",
       "      <td>NaN</td>\n",
       "      <td>NaN</td>\n",
       "      <td>NaN</td>\n",
       "      <td>NaN</td>\n",
       "      <td>NaN</td>\n",
       "      <td>NaN</td>\n",
       "      <td>NaN</td>\n",
       "      <td>NaN</td>\n",
       "      <td>NaN</td>\n",
       "      <td>PAEDIATRICS</td>\n",
       "    </tr>\n",
       "    <tr>\n",
       "      <th>3</th>\n",
       "      <td>J5344</td>\n",
       "      <td>ABACHU</td>\n",
       "      <td>SIMON</td>\n",
       "      <td>M</td>\n",
       "      <td>NaN</td>\n",
       "      <td>P.O BOX 91031, KAMPALA</td>\n",
       "      <td>91031</td>\n",
       "      <td>KAMPALA</td>\n",
       "      <td>MD,BLIDA,ALGERIA,2014</td>\n",
       "      <td>MD</td>\n",
       "      <td>...</td>\n",
       "      <td>NaN</td>\n",
       "      <td>NaN</td>\n",
       "      <td>NaN</td>\n",
       "      <td>NaN</td>\n",
       "      <td>NaN</td>\n",
       "      <td>NaN</td>\n",
       "      <td>NaN</td>\n",
       "      <td>NaN</td>\n",
       "      <td>NaN</td>\n",
       "      <td>NaN</td>\n",
       "    </tr>\n",
       "    <tr>\n",
       "      <th>4</th>\n",
       "      <td>I3770</td>\n",
       "      <td>ABAHO</td>\n",
       "      <td>RWABYONA SHELLINA</td>\n",
       "      <td>F</td>\n",
       "      <td>NaN</td>\n",
       "      <td>P.O BOX 488, KABALE</td>\n",
       "      <td>488</td>\n",
       "      <td>KABALE</td>\n",
       "      <td>MBChB,MUST,UGANDA,2011</td>\n",
       "      <td>MBChB</td>\n",
       "      <td>...</td>\n",
       "      <td>NaN</td>\n",
       "      <td>NaN</td>\n",
       "      <td>NaN</td>\n",
       "      <td>NaN</td>\n",
       "      <td>NaN</td>\n",
       "      <td>NaN</td>\n",
       "      <td>NaN</td>\n",
       "      <td>NaN</td>\n",
       "      <td>NaN</td>\n",
       "      <td>NaN</td>\n",
       "    </tr>\n",
       "  </tbody>\n",
       "</table>\n",
       "<p>5 rows × 36 columns</p>\n",
       "</div>"
      ],
      "text/plain": [
       "  Reg No.    Surname          Other Name Sex                    Employer  \\\n",
       "0   H2441  AACA OKUI             LILLIAN          F                  NaN   \n",
       "1   F0186      AANYU  HELLEN TUKAMUHEBWA          F      MULAGO HOSPITAL   \n",
       "2   I3717      ABACH               JAMES          M  CASE MEDICAL CENTRE   \n",
       "3   J5344     ABACHU               SIMON          M                  NaN   \n",
       "4   I3770      ABAHO   RWABYONA SHELLINA          F                  NaN   \n",
       "\n",
       "           Postal Address  BOX        CITYTOWN        First Registration  \\\n",
       "0   P.O BOX 7072, KAMPALA        7072    KAMPALA   MBChB,MUK,UGANDA,2003   \n",
       "1  P.O BOX 21846, KAMPALA       21846    KAMPALA  MBChB,MUST,UGANDA,1995   \n",
       "2   P.O BOX 4547, KAMPALA        4547    KAMPALA   MBChB,MUK,UGANDA,2010   \n",
       "3  P.O BOX 91031, KAMPALA       91031    KAMPALA   MD,BLIDA,ALGERIA,2014   \n",
       "4     P.O BOX 488, KABALE         488     KABALE  MBChB,MUST,UGANDA,2011   \n",
       "\n",
       "  PROFES                   ...                        PROFES03    \\\n",
       "0      MBChB               ...                               NaN   \n",
       "1      MBChB               ...                 CERT. PULMONOLOGY   \n",
       "2      MBChB               ...                               NaN   \n",
       "3         MD               ...                               NaN   \n",
       "4      MBChB               ...                               NaN   \n",
       "\n",
       "              AWARD03     COUNTRY03  YEAR03     Unnamed: 30 PROFES04    \\\n",
       "0                    NaN         NaN        NaN         NaN        NaN   \n",
       "1  CAPE TOWN & RED CROSS          SA       2010         NaN        NaN   \n",
       "2                    NaN         NaN        NaN         NaN        NaN   \n",
       "3                    NaN         NaN        NaN         NaN        NaN   \n",
       "4                    NaN         NaN        NaN         NaN        NaN   \n",
       "\n",
       "  AWARD04    COUNTRY04  YEAR04                           Speciality  \n",
       "0        NaN        NaN        NaN                              NaN  \n",
       "1        NaN        NaN        NaN  PAEDIATRIC PULMONOLOGY, ALLERGY  \n",
       "2        NaN        NaN        NaN                      PAEDIATRICS  \n",
       "3        NaN        NaN        NaN                              NaN  \n",
       "4        NaN        NaN        NaN                              NaN  \n",
       "\n",
       "[5 rows x 36 columns]"
      ]
     },
     "execution_count": 429,
     "metadata": {},
     "output_type": "execute_result"
    }
   ],
   "source": [
    "# Notes on reading python code\n",
    "# NaN = not a number, the python equivlent of \"null\"/\"nil\"/\"NA\"\n",
    "# pandas (pd) is the main data analysis tool and uses dataframes (df), similar to R\n",
    "\n",
    "# read in data for \"full registry - skip first three rows (header information)\n",
    "df = pd.read_excel(\"../../data/umdpc/full-register-3-13-2018.xls\", skiprows=3, header=0)\n",
    "# show first 5 rows\n",
    "df.head(5)"
   ]
  },
  {
   "cell_type": "code",
   "execution_count": 430,
   "metadata": {},
   "outputs": [
    {
     "name": "stdout",
     "output_type": "stream",
     "text": [
      "['reg_no.', 'surname', 'other_name', 'sex', 'employer', 'postal_address', 'box', 'citytown', 'first_registration', 'profes', 'award', 'country', 'year', 'date_of_first_registration', 'additional_qualification(s)', 'unnamed:_15', 'profes01', 'award01', 'country01', 'year01', 'unnamed:_20', 'profes02', 'award02', 'country02', 'year02', 'unnamed:_25', 'profes03', 'award03', 'country03', 'year03', 'unnamed:_30', 'profes04', 'award04', 'country04', 'year04', 'speciality']\n"
     ]
    }
   ],
   "source": [
    "# Fix the whitespace in the column names, replace strings with underscore\n",
    "df.columns = df.columns.str.strip().str.lower().str.replace(' ', '_')\n",
    "nprint(df.columns)"
   ]
  },
  {
   "cell_type": "code",
   "execution_count": 431,
   "metadata": {},
   "outputs": [
    {
     "data": {
      "text/html": [
       "<div>\n",
       "<table border=\"1\" class=\"dataframe\">\n",
       "  <thead>\n",
       "    <tr style=\"text-align: right;\">\n",
       "      <th></th>\n",
       "      <th>528</th>\n",
       "    </tr>\n",
       "  </thead>\n",
       "  <tbody>\n",
       "    <tr>\n",
       "      <th>first_registration</th>\n",
       "      <td>MBChB,MUK,UGANDA,1978</td>\n",
       "    </tr>\n",
       "    <tr>\n",
       "      <th>profes</th>\n",
       "      <td>MBChB</td>\n",
       "    </tr>\n",
       "    <tr>\n",
       "      <th>award</th>\n",
       "      <td>MUK</td>\n",
       "    </tr>\n",
       "    <tr>\n",
       "      <th>country</th>\n",
       "      <td>UGANDA</td>\n",
       "    </tr>\n",
       "    <tr>\n",
       "      <th>year</th>\n",
       "      <td>1978</td>\n",
       "    </tr>\n",
       "    <tr>\n",
       "      <th>additional_qualification(s)</th>\n",
       "      <td>PhD,DUBLIN,IRELAND,1987,MRCP,RCP,IRELAND,1987,...</td>\n",
       "    </tr>\n",
       "    <tr>\n",
       "      <th>unnamed:_15</th>\n",
       "      <td>PhD,DUBLIN,IRELAND,1987</td>\n",
       "    </tr>\n",
       "    <tr>\n",
       "      <th>profes01</th>\n",
       "      <td>PhD</td>\n",
       "    </tr>\n",
       "    <tr>\n",
       "      <th>award01</th>\n",
       "      <td>DUBLIN</td>\n",
       "    </tr>\n",
       "    <tr>\n",
       "      <th>country01</th>\n",
       "      <td>IRELAND</td>\n",
       "    </tr>\n",
       "    <tr>\n",
       "      <th>year01</th>\n",
       "      <td>1987</td>\n",
       "    </tr>\n",
       "    <tr>\n",
       "      <th>unnamed:_20</th>\n",
       "      <td>MRCP,RCP,IRELAND,1987</td>\n",
       "    </tr>\n",
       "    <tr>\n",
       "      <th>profes02</th>\n",
       "      <td>MRCP</td>\n",
       "    </tr>\n",
       "    <tr>\n",
       "      <th>award02</th>\n",
       "      <td>RCP</td>\n",
       "    </tr>\n",
       "    <tr>\n",
       "      <th>country02</th>\n",
       "      <td>IRELAND</td>\n",
       "    </tr>\n",
       "    <tr>\n",
       "      <th>year02</th>\n",
       "      <td>1987</td>\n",
       "    </tr>\n",
       "    <tr>\n",
       "      <th>unnamed:_25</th>\n",
       "      <td>FDE,MANIPAL,INDIA,2001</td>\n",
       "    </tr>\n",
       "    <tr>\n",
       "      <th>profes03</th>\n",
       "      <td>FDE</td>\n",
       "    </tr>\n",
       "    <tr>\n",
       "      <th>award03</th>\n",
       "      <td>MANIPAL</td>\n",
       "    </tr>\n",
       "    <tr>\n",
       "      <th>country03</th>\n",
       "      <td>INDIA</td>\n",
       "    </tr>\n",
       "    <tr>\n",
       "      <th>year03</th>\n",
       "      <td>2001</td>\n",
       "    </tr>\n",
       "    <tr>\n",
       "      <th>unnamed:_30</th>\n",
       "      <td>MSC,GLOBAL HEALTH DUBLIN,UK,2007</td>\n",
       "    </tr>\n",
       "    <tr>\n",
       "      <th>profes04</th>\n",
       "      <td>MSC</td>\n",
       "    </tr>\n",
       "    <tr>\n",
       "      <th>award04</th>\n",
       "      <td>GLOBAL HEALTH DUBLIN</td>\n",
       "    </tr>\n",
       "    <tr>\n",
       "      <th>country04</th>\n",
       "      <td>UK</td>\n",
       "    </tr>\n",
       "    <tr>\n",
       "      <th>year04</th>\n",
       "      <td>2007</td>\n",
       "    </tr>\n",
       "  </tbody>\n",
       "</table>\n",
       "</div>"
      ],
      "text/plain": [
       "                                                                           528\n",
       "first_registration                                       MBChB,MUK,UGANDA,1978\n",
       "profes                                                                   MBChB\n",
       "award                                                                      MUK\n",
       "country                                                                 UGANDA\n",
       "year                                                                      1978\n",
       "additional_qualification(s)  PhD,DUBLIN,IRELAND,1987,MRCP,RCP,IRELAND,1987,...\n",
       "unnamed:_15                                            PhD,DUBLIN,IRELAND,1987\n",
       "profes01                                                                   PhD\n",
       "award01                                                                 DUBLIN\n",
       "country01                                                              IRELAND\n",
       "year01                                                                    1987\n",
       "unnamed:_20                                              MRCP,RCP,IRELAND,1987\n",
       "profes02                                                                  MRCP\n",
       "award02                                                                    RCP\n",
       "country02                                                              IRELAND\n",
       "year02                                                                    1987\n",
       "unnamed:_25                                             FDE,MANIPAL,INDIA,2001\n",
       "profes03                                                                   FDE\n",
       "award03                                                                MANIPAL\n",
       "country03                                                                INDIA\n",
       "year03                                                                    2001\n",
       "unnamed:_30                                   MSC,GLOBAL HEALTH DUBLIN,UK,2007\n",
       "profes04                                                                   MSC\n",
       "award04                                                   GLOBAL HEALTH DUBLIN\n",
       "country04                                                                   UK\n",
       "year04                                                                    2007"
      ]
     },
     "execution_count": 431,
     "metadata": {},
     "output_type": "execute_result"
    }
   ],
   "source": [
    "# Let's find what all these columns are for\n",
    "\n",
    "# Find all rows with null values in any column\n",
    "any_null = df.isnull().any(axis=1)\n",
    "\n",
    "# Find the inverse\n",
    "not_any_null = any_null.apply(lambda x: not x)\n",
    "\n",
    "# Print the columns of question for a few rows, (transformed then limited to ten cols, which are now rows)\n",
    "df[not_any_null][['first_registration', 'profes', 'award', 'country', 'year', 'additional_qualification(s)',\n",
    "                  'unnamed:_15','profes01','award01','country01', 'year01','unnamed:_20', 'profes02','award02', \n",
    "                  'country02','year02', 'unnamed:_25','profes03', 'award03','country03', 'year03', 'unnamed:_30', \n",
    "                  'profes04','award04', 'country04','year04' ]][:1].T"
   ]
  },
  {
   "cell_type": "code",
   "execution_count": 432,
   "metadata": {},
   "outputs": [
    {
     "name": "stdout",
     "output_type": "stream",
     "text": [
      "['reg_no', 'surname', 'other_name', 'sex', 'employer', 'postal_address', 'box', 'citytown', 'concat_degree1', 'degree_degree1', 'program_degree1', 'country_degree1', 'year_degree1', 'date_of_first_registration', 'additional_qualification(s)', 'concat_degree2', 'degree_degree2', 'program_degree2', 'country_degree2', 'year_degree2', 'concat_degree3', 'degree_degree3', 'program_degree3', 'country_degree3', 'year_degree3', 'concat_degree4', 'degree_degree4', 'program_degree4', 'country_degree4', 'year_degree4', 'concat_degree5', 'degree_degree5', 'program_degree5', 'country_degree5', 'year_degree5', 'speciality']\n"
     ]
    }
   ],
   "source": [
    "# Rename columns to more useful \n",
    "df = df.rename(columns={\n",
    "    'reg_no.':'reg_no',\n",
    "    'first_registration': 'concat_degree1', 'profes': 'degree_degree1',\n",
    "    'award': 'program_degree1', 'country': 'country_degree1','year': 'year_degree1',\n",
    "    'unnamed:_15': 'concat_degree2', 'profes01': 'degree_degree2', 'award01': 'program_degree2', \n",
    "    'country01': 'country_degree2', 'year01': 'year_degree2', 'unnamed:_20': 'concat_degree3',\n",
    "    'profes02': 'degree_degree3', 'award02': 'program_degree3', 'country02': 'country_degree3',\n",
    "    'year02': 'year_degree3', 'unnamed:_25': 'concat_degree4','profes03': 'degree_degree4',\n",
    "    'award03': 'program_degree4','country03': 'country_degree4','year03': 'year_degree4',\n",
    "    'unnamed:_30': 'concat_degree5', 'profes04': 'degree_degree5', 'award04': 'program_degree5',\n",
    "    'country04': 'country_degree5', 'year04': 'year_degree5'\n",
    "})\n",
    "\n",
    "# Confirm rename\n",
    "nprint(df.columns)"
   ]
  },
  {
   "cell_type": "code",
   "execution_count": 433,
   "metadata": {},
   "outputs": [
    {
     "data": {
      "text/plain": [
       "reg_no        5219\n",
       "surname       5222\n",
       "other_name    5222\n",
       "sex           5222\n",
       "dtype: int64"
      ]
     },
     "execution_count": 433,
     "metadata": {},
     "output_type": "execute_result"
    }
   ],
   "source": [
    "# Look for missing values in key fields\n",
    "key_demographic_fields = ['reg_no', 'surname', 'other_name', 'sex']\n",
    "df[key_demographic_fields].notnull().sum()"
   ]
  },
  {
   "cell_type": "code",
   "execution_count": 434,
   "metadata": {},
   "outputs": [
    {
     "data": {
      "text/html": [
       "<div>\n",
       "<table border=\"1\" class=\"dataframe\">\n",
       "  <thead>\n",
       "    <tr style=\"text-align: right;\">\n",
       "      <th></th>\n",
       "      <th>reg_no</th>\n",
       "      <th>surname</th>\n",
       "      <th>other_name</th>\n",
       "      <th>sex</th>\n",
       "    </tr>\n",
       "  </thead>\n",
       "  <tbody>\n",
       "    <tr>\n",
       "      <th>2082</th>\n",
       "      <td>NaN</td>\n",
       "      <td>KUNGU</td>\n",
       "      <td>SULAIMAN PETER</td>\n",
       "      <td>M</td>\n",
       "    </tr>\n",
       "    <tr>\n",
       "      <th>4465</th>\n",
       "      <td>NaN</td>\n",
       "      <td>RUGUMAYO</td>\n",
       "      <td>NATASHA</td>\n",
       "      <td>F</td>\n",
       "    </tr>\n",
       "    <tr>\n",
       "      <th>4950</th>\n",
       "      <td>NaN</td>\n",
       "      <td>TURANZOMWE</td>\n",
       "      <td>STUART</td>\n",
       "      <td>M</td>\n",
       "    </tr>\n",
       "  </tbody>\n",
       "</table>\n",
       "</div>"
      ],
      "text/plain": [
       "     reg_no     surname      other_name sex\n",
       "2082    NaN       KUNGU  SULAIMAN PETER   M\n",
       "4465    NaN    RUGUMAYO         NATASHA   F\n",
       "4950    NaN  TURANZOMWE          STUART   M"
      ]
     },
     "execution_count": 434,
     "metadata": {},
     "output_type": "execute_result"
    }
   ],
   "source": [
    "# There is at least one person missing a reg number\n",
    "df[df.reg_no.isnull()][key_demographic_fields]"
   ]
  },
  {
   "cell_type": "code",
   "execution_count": 435,
   "metadata": {},
   "outputs": [
    {
     "name": "stdout",
     "output_type": "stream",
     "text": [
      "5222 3\n"
     ]
    }
   ],
   "source": [
    "# Looks like there are three, but they seem to be real people, so I will keep them\n",
    "\n",
    "number_of_physicians_per_registry = df[key_demographic_fields].notnull().sum().max()\n",
    "unregistered_physicians_per_registry = df[['surname']].notnull().sum().max() - df[['reg_no']].notnull().sum().max()\n",
    "print number_of_physicians_per_registry, unregistered_physicians_per_registry"
   ]
  },
  {
   "cell_type": "code",
   "execution_count": 436,
   "metadata": {},
   "outputs": [
    {
     "name": "stdout",
     "output_type": "stream",
     "text": [
      "\n",
      " non-null values: \n",
      "\n",
      " surname        2996\n",
      "other_names    2996\n",
      "receipt        2926\n",
      "serial         2966\n",
      "date           2995\n",
      "speciality      958\n",
      "dtype: int64\n",
      "\n",
      " number of physicians licensed: 2996\n"
     ]
    }
   ],
   "source": [
    "# Let's compare this two what was in the licensing file\n",
    "ldf = pd.read_excel(\"../../data/umdpc/licenced-medical-and-dental-practitioners-3-13-2018.xls\", skiprows=3, header=0)\n",
    "# repeat the cleanup process from above, make it a function so we don't have to repeat\n",
    "ldf.columns = ldf.columns.str.strip().str.lower().str.replace(' ', '_')\n",
    "# Inspect missing fields in the license data file\n",
    "print \"\\n non-null values: \\n\\n {}\".format(ldf.notnull().sum())\n",
    "number_of_lic_physicians_per_registry = ldf.surname.notnull().sum()\n",
    "print \"\\n number of physicians licensed: {}\".format(number_of_lic_physicians_per_registry)"
   ]
  },
  {
   "cell_type": "code",
   "execution_count": 437,
   "metadata": {},
   "outputs": [
    {
     "name": "stdout",
     "output_type": "stream",
     "text": [
      "3786\n"
     ]
    }
   ],
   "source": [
    "# This gives us a confusing picture of # active docs\n",
    "# Let's see how many physicians are actively practicing using their \"employer\" field\n",
    "\n",
    "# Assign a dummy var to all real people - .loc[x,y] finds rows that met x (: mean all, and sets y)\n",
    "df.loc[:, \"dummy\"] = df.surname.notnull()\n",
    "\n",
    "# First, let's just see how many list a place of employment\n",
    "number_of_physicians_employed_per_registry = df[df.employer.notnull()].dummy.count()\n",
    "print number_of_physicians_employed_per_registry"
   ]
  },
  {
   "cell_type": "code",
   "execution_count": 438,
   "metadata": {},
   "outputs": [
    {
     "name": "stdout",
     "output_type": "stream",
     "text": [
      "                          num_docs_employed\n",
      "employer                                   \n",
      "Mulago Hospital                         242\n",
      "Makerere University                     107\n",
      "Infectious Disease Inst.                 76\n",
      "Ministry of Health                       71\n",
      "Mengo Hospital                           67\n",
      "Nsambya Hospital                         57\n",
      "Baylor Uganda                            49\n",
      "MUST                                     39\n",
      "Lacor Hospital                           34\n",
      "Uganda Cancer Institute                  33\n",
      "Lubaga Hospital                          30\n",
      "Uganda Heart Institute                   28\n",
      "Medical Research Council                 27\n",
      "Case Medical Centre                      26\n",
      "Mildmay Uganda                           24\n"
     ]
    }
   ],
   "source": [
    "# Freq table for most common hospitals to work at\n",
    "df[\"employer\"] = df[df.employer.notnull()].employer.apply(emtc)\n",
    "\n",
    "q = df['employer'].value_counts()[:15].to_frame().rename(columns={'employer':'num_docs_employed'})\n",
    "q.index.name = \"employer\"\n",
    "print q"
   ]
  },
  {
   "cell_type": "code",
   "execution_count": 439,
   "metadata": {},
   "outputs": [
    {
     "data": {
      "image/png": "[encoded data removed]",
      "text/plain": [
       "<matplotlib.figure.Figure at 0x10f178050>"
      ]
     },
     "metadata": {},
     "output_type": "display_data"
    }
   ],
   "source": [
    "%matplotlib inline\n",
    "\n",
    "# Histogram\n",
    "top_15 = df['employer'].value_counts()[:15].keys().tolist()\n",
    "plt.figure(figsize=(10, 5))\n",
    "g = sns.countplot(x=\"employer\", data=df[df.employer.isin(top_15)], palette=\"Greens_d\", order=top_15)\n",
    "_ = plt.xticks(rotation=90)\n",
    "_ = plt.xlabel(\"Hospital\")\n",
    "_ = plt.title(\"Physician employement (top 15 hospitals)\")"
   ]
  },
  {
   "cell_type": "code",
   "execution_count": 440,
   "metadata": {},
   "outputs": [
    {
     "name": "stdout",
     "output_type": "stream",
     "text": [
      "\n",
      " Best ten results: \n",
      "\n",
      " [('anaesthesia', 95), ('anaesthesiology', 81), ('anaesthesia,paediatric anaesth.', 81), ('anaesthsia & intensive care', 81), ('anaesthesia,critical care& pain', 81), ('ent', 60), ('gastro-hepalolosy', 54), ('pediatrics & child health', 51), ('blood transfusion', 48), ('health services research', 45)]\n",
      "\n",
      " those with 80% match or more: \n",
      "\n",
      " ['anaesthesia', 'anaesthesiology', 'anaesthesia,paediatric anaesth.', 'anaesthsia & intensive care', 'anaesthesia,critical care& pain']\n"
     ]
    }
   ],
   "source": [
    "# Now lets turn to anesthesiologist. Using the registry data, look at the specialty\n",
    "\n",
    "# Make speciaties lower case\n",
    "df.speciality = df.speciality[df.speciality.notnull()].apply(lambda x: str(x).lower())\n",
    "\n",
    "# Get unique speciaties\n",
    "all_specialties = df[df.speciality.notnull()].speciality.unique()\n",
    "\n",
    "# Print all\n",
    "if verbose:\n",
    "    print all_specialties\n",
    "\n",
    "# Fuzzy search, find the 10 best results\n",
    "print \"\\n Best ten results: \\n\\n {}\".format(process.extract(\"anesthesia\", all_specialties, limit=10))\n",
    "\n",
    "# Find those with 80% match or more\n",
    "filtered = [ str(i) for i in all_specialties if fuzz.partial_ratio(i, \"anesthesia\") > 80]\n",
    "print \"\\n those with 80% match or more: \\n\\n {}\".format(filtered)"
   ]
  },
  {
   "cell_type": "code",
   "execution_count": 441,
   "metadata": {},
   "outputs": [
    {
     "data": {
      "text/html": [
       "<div>\n",
       "<table border=\"1\" class=\"dataframe\">\n",
       "  <thead>\n",
       "    <tr style=\"text-align: right;\">\n",
       "      <th></th>\n",
       "      <th>surname</th>\n",
       "      <th>employer</th>\n",
       "      <th>date_of_first_registration</th>\n",
       "      <th>speciality</th>\n",
       "      <th>degree_degree1</th>\n",
       "      <th>year_degree1</th>\n",
       "    </tr>\n",
       "  </thead>\n",
       "  <tbody>\n",
       "    <tr>\n",
       "      <th>440</th>\n",
       "      <td>ATURIA</td>\n",
       "      <td>NaN</td>\n",
       "      <td>12/22/06</td>\n",
       "      <td>anaesthesia</td>\n",
       "      <td>MBChB</td>\n",
       "      <td>1995</td>\n",
       "    </tr>\n",
       "    <tr>\n",
       "      <th>469</th>\n",
       "      <td>AYEBALE</td>\n",
       "      <td>Makerere University</td>\n",
       "      <td>08/07/09</td>\n",
       "      <td>anaesthesiology</td>\n",
       "      <td>MBChB</td>\n",
       "      <td>2008</td>\n",
       "    </tr>\n",
       "    <tr>\n",
       "      <th>490</th>\n",
       "      <td>AYUPO</td>\n",
       "      <td>Uganda Heart Institute</td>\n",
       "      <td>01/28/13</td>\n",
       "      <td>anaesthesia</td>\n",
       "      <td>MBChB</td>\n",
       "      <td>2011</td>\n",
       "    </tr>\n",
       "    <tr>\n",
       "      <th>764</th>\n",
       "      <td>BUGEMBE</td>\n",
       "      <td>Jinja Hospital</td>\n",
       "      <td>02/07/03</td>\n",
       "      <td>anaesthesiology</td>\n",
       "      <td>MBChB</td>\n",
       "      <td>1996</td>\n",
       "    </tr>\n",
       "    <tr>\n",
       "      <th>787</th>\n",
       "      <td>BUKWIRWA</td>\n",
       "      <td>NaN</td>\n",
       "      <td>03/11/99</td>\n",
       "      <td>anaesthesia</td>\n",
       "      <td>MBChB</td>\n",
       "      <td>1980</td>\n",
       "    </tr>\n",
       "  </tbody>\n",
       "</table>\n",
       "</div>"
      ],
      "text/plain": [
       "      surname                employer date_of_first_registration  \\\n",
       "440    ATURIA                     NaN                   12/22/06   \n",
       "469   AYEBALE     Makerere University                   08/07/09   \n",
       "490     AYUPO  Uganda Heart Institute                   01/28/13   \n",
       "764   BUGEMBE          Jinja Hospital                   02/07/03   \n",
       "787  BUKWIRWA                     NaN                   03/11/99   \n",
       "\n",
       "          speciality degree_degree1  year_degree1  \n",
       "440      anaesthesia          MBChB          1995  \n",
       "469  anaesthesiology          MBChB          2008  \n",
       "490      anaesthesia          MBChB          2011  \n",
       "764  anaesthesiology          MBChB          1996  \n",
       "787      anaesthesia          MBChB          1980  "
      ]
     },
     "execution_count": 441,
     "metadata": {},
     "output_type": "execute_result"
    }
   ],
   "source": [
    "# The filtered group captured the strings of interest\n",
    "anes_career = filtered\n",
    "\n",
    "# create anes df\n",
    "adf = df[df.speciality.isin(anes_career)]\n",
    "\n",
    "# look at some data\n",
    "adf[['surname', 'employer', 'date_of_first_registration', 'speciality', 'degree_degree1', 'year_degree1']].head(5)"
   ]
  },
  {
   "cell_type": "code",
   "execution_count": 442,
   "metadata": {},
   "outputs": [
    {
     "name": "stdout",
     "output_type": "stream",
     "text": [
      "from general file: \n",
      "\n",
      "                                 num\n",
      "speciality                          \n",
      "anaesthesia                       36\n",
      "anaesthesiology                    8\n",
      "anaesthesia,paediatric anaesth.    1\n",
      "anaesthesia,critical care& pain    1\n",
      "anaesthsia & intensive care        1\n",
      "total                             47\n"
     ]
    }
   ],
   "source": [
    "# summary statistics\n",
    "q = adf['speciality'].value_counts().to_frame().rename(columns={'speciality':'num'})\n",
    "q.index.name = \"speciality\"\n",
    "q.loc[\"total\",\"num\"] = adf['speciality'].value_counts().sum()\n",
    "print \"from general file: \\n\\n{}\".format(q)"
   ]
  },
  {
   "cell_type": "code",
   "execution_count": 443,
   "metadata": {},
   "outputs": [
    {
     "name": "stdout",
     "output_type": "stream",
     "text": [
      "['anaesthesia', 'anaesthesiology', 'anaesthesia,paediatric anaesth.', 'anaesthsia & intensive care', 'anaesthesia,critical care& pain']\n"
     ]
    }
   ],
   "source": [
    "# 47 is quite a bit less that what the WFSA reports. Let's cross-check with the \"specialities\" database.\n",
    "sdf = pd.read_excel(\"../../data/umdpc/licenced-medical-and-dental-practitioners-3-13-2018.xls\", skiprows=3, header=0)\n",
    "\n",
    "# repeat the cleanup process from above - strip colums, lower case, and remove blank records\n",
    "sdf.columns = sdf.columns.str.strip().str.lower().str.replace(' ', '_')\n",
    "sdf.speciality = sdf[sdf.speciality.notnull()].speciality.apply(lambda x: str(x).lower())\n",
    "sdf = sdf[sdf.surname.notnull()]\n",
    "\n",
    "# see if specialities are same in this file - Get unique speciaties then fuzzy search\n",
    "all_specialties = sdf[sdf.speciality.notnull()].speciality.unique()\n",
    "filtered = [ str(i) for i in all_specialties if fuzz.partial_ratio(i, \"anesthesia\") > 80]\n",
    "print filtered"
   ]
  },
  {
   "cell_type": "code",
   "execution_count": 444,
   "metadata": {},
   "outputs": [
    {
     "name": "stdout",
     "output_type": "stream",
     "text": [
      "from specialist file: \n",
      "\n",
      "                                 num\n",
      "speciality                          \n",
      "anaesthesia                       23\n",
      "anaesthesiology                    3\n",
      "anaesthesia,paediatric anaesth.    1\n",
      "anaesthesia,critical care& pain    1\n",
      "anaesthsia & intensive care        1\n",
      "total                             47\n"
     ]
    }
   ],
   "source": [
    "# they were the same - continue\n",
    "# summary statistics\n",
    "anes_career = filtered\n",
    "sdf = sdf[sdf.speciality.isin(anes_career)]\n",
    "q = sdf['speciality'].value_counts().to_frame().rename(columns={'speciality':'num'})\n",
    "q.index.name = \"speciality\"\n",
    "q.loc[\"total\",\"num\"] = adf['speciality'].value_counts().sum()\n",
    "print \"from specialist file: \\n\\n{}\".format(q)"
   ]
  },
  {
   "cell_type": "code",
   "execution_count": 445,
   "metadata": {},
   "outputs": [
    {
     "name": "stdout",
     "output_type": "stream",
     "text": [
      "[u'MBChB', u'MBBS', u'MBCHB', u'DIP ANAESTH', u'M.MED ANAES', u'M.MED ANAESTHESIA', u'M MED ANAESTH', u'M.MED. ANAESTHESIA', u'M MED. ANAESTHESIA', u'FRCA', u'M.MED.ANAESTHESIA', u'M MED. ANAES', u'M MED ANAESTHESIA', u'M MED. ANAESTH.', u'DIP ANAEST', u'M.MED.ANAESTH.', u'FFARCS', u'FCA', u'DIP.ANAESTH', u'FELLOWSHIP OBS&GYN', u'FRCSI', u'FELLOWSHIP IN CARDIAC ANAES.']\n",
      "[u'MBChB', u'MBBS', 'Diploma in Anesthesia', 'MMed in Anesthesia', u'FRCA', u'FFARCS', u'FCA', u'FELLOWSHIP OBS&GYN', u'FRCSI', u'FELLOWSHIP IN CARDIAC ANAES.']\n"
     ]
    }
   ],
   "source": [
    "# That confirms the number. Let's look at more data. \n",
    "\n",
    "num_physician_anesthesthetist = q.loc[\"total\",\"num\"] = adf['speciality'].value_counts().sum()\n",
    "\n",
    "# Make a dataframe\n",
    "degree_list = adf['degree_degree1'].tolist() + \\\n",
    "    adf['degree_degree2'].tolist() + \\\n",
    "    adf['degree_degree3'].tolist() + \\\n",
    "    adf['degree_degree4'].tolist() + \\\n",
    "    adf['degree_degree5'].tolist()\n",
    "# Make dataframe and drop NaN (not a number)\n",
    "ddf = pd.DataFrame(degree_list, columns={'degree'}).dropna(axis=0, how='all')\n",
    "print ddf.degree.unique().tolist()\n",
    "\n",
    "# Merge identical degrees\n",
    "dip = ['DIP ANAESTH','DIP ANAEST','DIP.ANAESTH']\n",
    "mmed = ['M.MED ANAES', \n",
    "        'M.MED ANAESTHESIA', \n",
    "        'M MED ANAESTH', \n",
    "        'M.MED. ANAESTHESIA', \n",
    "        'M MED. ANAESTHESIA', \n",
    "        'M.MED.ANAESTHESIA', \n",
    "        'M MED. ANAES', \n",
    "        'M MED ANAESTHESIA', \n",
    "        'M MED. ANAESTH.', \n",
    "        'M.MED.ANAESTH.']\n",
    "\n",
    "ddf.loc[ddf.degree == 'MBCHB'] = 'MBChB'\n",
    "ddf.loc[ddf.degree.isin(dip)] = 'Diploma in Anesthesia'\n",
    "ddf.loc[ddf.degree.isin(mmed)] = 'MMed in Anesthesia'\n",
    "\n",
    "print ddf.degree.unique().tolist()\n"
   ]
  },
  {
   "cell_type": "code",
   "execution_count": 446,
   "metadata": {},
   "outputs": [
    {
     "data": {
      "image/png": "[encoded data removed]",
      "text/plain": [
       "<matplotlib.figure.Figure at 0x112232210>"
      ]
     },
     "metadata": {},
     "output_type": "display_data"
    }
   ],
   "source": [
    "%matplotlib inline\n",
    "\n",
    "# Histogram\n",
    "ordered_list = ddf['degree'].value_counts().keys().tolist()\n",
    "plt.figure(figsize=(10, 5))\n",
    "g = sns.countplot(x=\"degree\", data=ddf, palette=\"Greens_d\", order=ordered_list)\n",
    "_ = plt.xticks(rotation=90)\n",
    "_ = plt.xlabel(\"Degree\")\n",
    "_ = plt.title(\"Cumulative degrees obtained by anesthesthetist in Uganada\")"
   ]
  },
  {
   "cell_type": "code",
   "execution_count": 447,
   "metadata": {},
   "outputs": [
    {
     "name": "stdout",
     "output_type": "stream",
     "text": [
      "num_phys_anes_holding_mmed: 43\n",
      "num_physician_anesthesthetist: 47\n",
      "prop_phys_anes_w_mmed: 91%\n"
     ]
    }
   ],
   "source": [
    "num_phys_anes_holding_mmed = adf[(adf.degree_degree1.isin(mmed) | \\\n",
    "                            adf.degree_degree2.isin(mmed) | \\\n",
    "                            adf.degree_degree3.isin(mmed) | \\\n",
    "                            adf.degree_degree4.isin(mmed) | \\\n",
    "                            adf.degree_degree5.isin(mmed))] \\\n",
    "                            .dummy.sum()\n",
    "    \n",
    "prop_phys_anes_w_mmed = num_phys_anes_holding_mmed / num_physician_anesthesthetist\n",
    "\n",
    "print \"num_phys_anes_holding_mmed: {}\".format(num_phys_anes_holding_mmed)\n",
    "print \"num_physician_anesthesthetist: {}\".format(num_physician_anesthesthetist)\n",
    "print \"prop_phys_anes_w_mmed: {:.0%}\".format(prop_phys_anes_w_mmed)"
   ]
  },
  {
   "cell_type": "markdown",
   "metadata": {
    "variables": {
     "\"{:.0%}\".format(prop_phys_anes_w_mmed)": "91%",
     "num_phys_anes_holding_mmed": "43",
     "num_physician_anesthesthetist": "47",
     "number_of_lic_physicians_per_registry": "2996",
     "number_of_physicians_employed_per_registry": "3786",
     "number_of_physicians_per_registry": "5222",
     "number_of_physicians_per_registry - number_of_lic_physicians_per_registry": "2226",
     "unregistered_physicians_per_registry": "3"
    }
   },
   "source": [
    "### Number of physicians - methods\n",
    "\n",
    "Three files were used: the main registry, the licensing database, and the specialist database. Data was cleaned by removing whitespace and formatting oddities as documented in the supplement. \n",
    "\n",
    "### Number of physicians - results\n",
    "On the main registry, there were {{number_of_physicians_per_registry}} physicians listed, {{number_of_physicians_employed_per_registry}} of whom listed a place of employment. There were {{unregistered_physicians_per_registry}} with no registration number. The licensing database revealed that {{number_of_lic_physicians_per_registry}} were licensed. The remaining {{number_of_physicians_per_registry - number_of_lic_physicians_per_registry}} who were missing from the license file are either (1) no longer in practice or (2) lapsed in their annual licensing.  \n",
    "\n",
    "According to the registration documents, there are {{num_physician_anesthesthetist}} physician anesthesthetists, {{\"{:.0%}\".format(prop_phys_anes_w_mmed)}} of which ({{num_phys_anes_holding_mmed}}) hold an MMed.\n"
   ]
  },
  {
   "cell_type": "markdown",
   "metadata": {},
   "source": [
    "# References\n",
    "---------------------------\n",
    "\n",
    "<div id=\"refs\" class=\"references\">\n",
    "<div id=\"ref-aau2018\" stlye=\"margin-top:10px\">\n",
    "<p> --- aau2018 --- Association of Anesthesiologist of Uganda. (2018). Bachelors of science in anaesthesia. Retrieved from <a href=\"http://www.anesthesiaug.org/bachelors/\" class=\"uri\">http://www.anesthesiaug.org/bachelors/</a></p>\n",
    "</div>\n",
    "<div id=\"ref-ahpcschools2016\">\n",
    "<p> --- ahpcschools2016 --- uganda allied health professionals council. (2016). AHPC recognized training institutions 2016. Retrieved from <a href=\"http://www.ahpc.ug/schools.php\" class=\"uri\">http://www.ahpc.ug/schools.php</a></p>\n",
    "</div>\n",
    "<div id=\"ref-Banerjee2005Mar\">\n",
    "<p> --- Banerjee2005Mar --- Banerjee, S., Faiz, O., Rennie, J. A., Balyejjusa, J., &amp; Walsh, M. (2005). Bridging the health gap in Uganda: The surgical role of the clinical officer. <em>Afr. Health Sci.</em>, <em>5</em>(1), 86–89. Retrieved from <a href=\"http://www.ncbi.nlm.nih.gov/pmc/articles/PMC1831898\" class=\"uri\">http://www.ncbi.nlm.nih.gov/pmc/articles/PMC1831898</a></p>\n",
    "</div>\n",
    "<div id=\"ref-dsco2012\">\n",
    "<p> --- dsco2012 --- DISTRICT SERVICE COMMISSIONS OF UGANDA. (2012). DISTRICT service commissions of uganda health vacancies. DISTRICT SERVICE COMMISSIONS OF UGANDA. Retrieved from <a href=\"http://health.go.ug/docs/final_advert.pdf\" class=\"uri\">http://health.go.ug/docs/final_advert.pdf</a></p>\n",
    "</div>\n",
    "<div id=\"ref-examboard2015\">\n",
    "<p> --- examboard2015 --- Uganda Allied Health Examinations Board. (2015). Newsletter. Retrieved from <a href=\"http://uaheb.go.ug/wp-content/uploads/2016/06/Newsletter.pdf\" class=\"uri\">http://uaheb.go.ug/wp-content/uploads/2016/06/Newsletter.pdf</a></p>\n",
    "</div>\n",
    "<div id=\"ref-examboardschools\">\n",
    "<p> --- examboardschools --- Uganda Allied Health Examinations Board. (2018). Accredited school. Retrieved from <a href=\"http://uaheb.go.ug/accredited-schools/\" class=\"uri\">http://uaheb.go.ug/accredited-schools/</a></p>\n",
    "</div>\n",
    "<div id=\"ref-hcsurvey2014\">\n",
    "<p> --- hcsurvey2014 --- African Development Bank, M. W. (2014). Uganda hospital and health centre iv census survey. Retrieved from <a href=\"http://www.who.int/healthinfo/systems/SARA_H_UGA_Results_2014.pdf\" class=\"uri\">http://www.who.int/healthinfo/systems/SARA_H_UGA_Results_2014.pdf</a></p>\n",
    "</div>\n",
    "<div id=\"ref-intra2015\">\n",
    "<p> --- intra2015 --- Vincent Oketcho, J. O., Isaac Ezati. (2015). UGANDA on track for keeping human resources for health commitments. Retrieved from <a href=\"http://www.who.int/workforcealliance/media/news/2015/HRH_Commitments_Uganda_Case_Study.pdf\" class=\"uri\">http://www.who.int/workforcealliance/media/news/2015/HRH_Commitments_Uganda_Case_Study.pdf</a></p>\n",
    "</div>\n",
    "<div id=\"ref-kakande2011review\">\n",
    "<p> --- kakande2011review --- Kakande, I., Mkandawire, N., &amp; Thompson, M. (2011). A review of surgical capacity and surgical education programmes in the cosecsa region. <em>East and Central African Journal of Surgery</em>, <em>16</em>(3), 6–34. Retrieved from <a href=\"http://www.bioline.org.br/request?js11047\" class=\"uri\">http://www.bioline.org.br/request?js11047</a></p>\n",
    "</div>\n",
    "<div id=\"ref-Klopper2012-pp\">\n",
    "<p> --- Klopper2012-pp --- Klopper, H., &amp; Uys, L. R. (2012). <em>The State of Nursing and Nursing Education in Africa: A {Country-By-Country} Review</em>. Sigma Theta Tau.</p>\n",
    "</div>\n",
    "<div id=\"ref-lacoranes2018\">\n",
    "<p> --- lacoranes2018 --- Lacor School of Anesthesia. (2018). Lacor school of anesthesia. Retrieved from <a href=\"http://mambosms.ug/Data/atha/lacorh/?page_id=7346\" class=\"uri\">http://mambosms.ug/Data/atha/lacorh/?page_id=7346</a></p>\n",
    "</div>\n",
    "<div id=\"ref-Linden2012-sw\">\n",
    "<p> --- Linden2012-sw --- Linden, A. F., Sekidde, F. S., Galukande, M., Knowlton, L. M., Chackungal, S., &amp; McQueen, K. A. K. (2012). Challenges of surgery in developing countries: a survey of surgical and anesthesia capacity in Uganda’s public hospitals. <em>World J. Surg.</em>, <em>36</em>(5), 1056–1065.</p>\n",
    "</div>\n",
    "<div id=\"ref-mak2018\">\n",
    "<p> --- mak2018 --- Makarere University. (n.d.). Application requirements - direct entry. Retrieved from <a href=\"https://www.mak.ac.ug/application-procedures/direct-entry\" class=\"uri\">https://www.mak.ac.ug/application-procedures/direct-entry</a></p>\n",
    "</div>\n",
    "<div id=\"ref-MOH-hosp-list\">\n",
    "<p> --- MOH-hosp-list --- Ministry of Health. (2018). List of Hospitals. Retrieved from <a href=\"http://health.go.ug/affiliated-institutions/hospitals\" class=\"uri\">http://health.go.ug/affiliated-institutions/hospitals</a></p>\n",
    "</div>\n",
    "<div id=\"ref-mohscholar2017\">\n",
    "<p> --- mohscholar2017 --- Ministry of Health. (2017). ANNOUNCEMENT of scholarships for academic year 2017/2018. Retrieved from <a href=\"https://www.mnh.musph.ac.ug/wp-content/uploads/2016/10/MIN-OF-HEALTH.-scholarships.pdf\" class=\"uri\">https://www.mnh.musph.ac.ug/wp-content/uploads/2016/10/MIN-OF-HEALTH.-scholarships.pdf</a></p>\n",
    "</div>\n",
    "<div id=\"ref-mugalopara2013\">\n",
    "<p> --- mugalopara2013 --- Uganda Allied Health Institute and Management Sciences Mugalo. (2018). Post-basic programs uganda allied health institute and management sciences mugalo. Retrieved from <a href=\"http://uiahms.ac.ug/anaesthesia/\" class=\"uri\">http://uiahms.ac.ug/anaesthesia/</a></p>\n",
    "</div>\n",
    "<div id=\"ref-must2014\">\n",
    "<p> --- must2014 --- Mbarara University of Science and Technology. (n.d.). Admission Requirements. Retrieved from <a href=\"http://www.must.ac.ug/news/2014-must-private-admissions-advert\" class=\"uri\">http://www.must.ac.ug/news/2014-must-private-admissions-advert</a></p>\n",
    "</div>\n",
    "<div id=\"ref-roth2014role\">\n",
    "<p> --- roth2014role --- Roth, R., Frost, E. A., Gevirtz, C., &amp; Atcheson, C. L. (2014). <em>The role of anesthesiology in global health: A comprehensive guide</em>. Springer.</p>\n",
    "</div>\n",
    "<div id=\"ref-UBS2017\">\n",
    "<p> --- UBS2017 --- Ugandan Bureau of Statistics. (2017). Statistical Abstract.</p>\n",
    "</div>\n",
    "<div id=\"ref-umdpc2018reg\">\n",
    "<p> --- umdpc2018reg --- Uganda Medical and Dental Practitioners Council. (n.d.). Uganda medical and dental practitioners council registry. Retrieved from <a href=\"http://www.umdpc.com/registers.php\" class=\"uri\">http://www.umdpc.com/registers.php</a></p>\n",
    "</div>\n",
    "<div id=\"ref-UNFPA2009\">\n",
    "<p> --- UNFPA2009 --- United Nations Fund for Population Activities. (2009). The State of Midwifery Training, Service and Practice in Uganda Assessment Report, (July), 1–92.</p>\n",
    "</div>\n",
    "</div>"
   ]
  },
  {
   "cell_type": "markdown",
   "metadata": {},
   "source": [
    "The remaining is code snippets for later."
   ]
  },
  {
   "cell_type": "code",
   "execution_count": 448,
   "metadata": {
    "hide_input": true
   },
   "outputs": [],
   "source": [
    "# def cstr(s, color='black'):\n",
    "#     return \"<text style=color:{}>{}</text>\".format(color, s)\n",
    "\n",
    "# import pprint\n",
    "# pp = pprint.PrettyPrinter(depth=1)\n",
    "# pp.pprint(list(df.columns.astype(str)))\n",
    "\n",
    "# They added columns to differentiate specialties. These need to be removed. Let's see if they have any other info\n",
    "# df[df.surname.isnull()]\n",
    "\n",
    "\n",
    "# f, axarr = plt.subplots(1,2, figsize=(16, 5)) #sharex=True, sharey=True)\n",
    "\n",
    "# r = sns.countplot(x=\"employer\", data=df[df.employer.isin(top_15)], palette=\"Greens_d\", order=top_15)\n"
   ]
  }
 ],
 "metadata": {
  "celltoolbar": "Edit Metadata",
  "kernelspec": {
   "display_name": "Python 2",
   "language": "python",
   "name": "python2"
  },
  "language_info": {
   "codemirror_mode": {
    "name": "ipython",
    "version": 2
   },
   "file_extension": ".py",
   "mimetype": "text/x-python",
   "name": "python",
   "nbconvert_exporter": "python",
   "pygments_lexer": "ipython2",
   "version": "2.7.10"
  }
 },
 "nbformat": 4,
 "nbformat_minor": 2
}
