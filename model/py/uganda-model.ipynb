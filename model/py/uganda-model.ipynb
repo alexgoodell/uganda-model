{
 "cells": [
  {
   "cell_type": "markdown",
   "metadata": {},
   "source": [
    "\n",
    "# Descriptive information about anesthetists\n",
    "\n",
    "So far, no one has described the current data available for the number or distribution of the various cadres of anethetists in Uganda. \n",
    "\n",
    "My primary questions concern both physician anesthestics and non-physician anesthestists. Primarily,\n",
    "- How many are there?\n",
    "- Where are they (ie, distributed rural vs urban)?\n",
    "- How were they educated?\n",
    "- How much money do they make?\n",
    "- How many are being trained?\n",
    "\n",
    "Note: My citations will look funny in this notebook. Please see this [BibTex file](https://github.com/alexgoodell/uganda-model/blob/master/refs/library.bib) for the current list of my citations.\n",
    "\n",
    "## Physician anesthetists\n",
    "\n",
    "According to the WFSA, in Uganda, there are 3,361 physicians (for a physician-to-population ratio of 0.18 per 100,000), 263 of which are surgerons, 72 of which are physican anesthtists, and 47 physician providers that have an anaesthetic qualification. <cite data-cite=\"wfsaug2018\"><a href=\"#ref-wfsaug2018\">(wfsaug2018)</a></cite>. In 2004, 2005, and 2015 (the only data published by the WHO) there were 2209, 3361, and 3645 physicians country-wide. <cite data-cite=\"whogho2018\"><a href=\"#ref-whogho2018\">(whogho2018)</a></cite>\n",
    "\n",
    "Data concerning the number and location of physician anesthetists was obtained from the Uganda Medical and Dental Practitioners Council Registry website <cite data-cite=\"umdpc2018reg\"><a href=\"#ref-umdpc2018reg\">(umdpc2018reg)</a></cite>.  Extracted data can be found in our GitHub repository, under \"data/umdpc/.\" Filenames were changed to exclude spaces and extract date was included in the title. Data was cleaned by removing whitespace and formatting oddities as documented. \n"
   ]
  },
  {
   "cell_type": "code",
   "execution_count": null,
   "metadata": {},
   "outputs": [],
   "source": [
    "# import requirements (all found in /model/py/requirements.txt)\n",
    "import pandas as pd\n",
    "import numpy as np\n",
    "import os\n",
    "import matplotlib\n",
    "import matplotlib.pyplot as plt\n",
    "from IPython.display import HTML as html_print\n",
    "\n",
    "# function for easy printing\n",
    "def nprint(q):\n",
    "    print list(q.astype(str))\n",
    "\n",
    "# read in data - skip first three rows (header information)\n",
    "df = pd.read_excel(\"../../data/umdpc/specialist-register-3-13-2018.xls\", skiprows=3, header=0) \n",
    "# show first 5 rows\n",
    "df.head(5)"
   ]
  },
  {
   "cell_type": "code",
   "execution_count": null,
   "metadata": {},
   "outputs": [],
   "source": [
    "# Fix the whitespace in the column names, replace strings with underscore\n",
    "df.columns = df.columns.str.strip().str.lower().str.replace(' ', '_')\n",
    "nprint(df.columns)"
   ]
  },
  {
   "cell_type": "code",
   "execution_count": null,
   "metadata": {},
   "outputs": [],
   "source": [
    "# Let's find what all these columns are for\n",
    "# Find all rows with null values in any column\n",
    "any_null = df.isnull().any(axis=1)\n",
    "# Find the inverse\n",
    "not_any_null = any_null.apply(lambda x: not x)\n",
    "# Print the columns of question for a few rows, (transformed then limited to ten cols, which are now rows)\n",
    "df[not_any_null][['first_qualification', 'profes', 'award', 'country', 'year', 'additional_qualification(s)',\n",
    "                  'unnamed:_15','profes01','award01','country01', 'year01','unnamed:_20', 'profes02','award02', \n",
    "                  'country02','year02', 'unnamed:_25','profes03', 'award03','country03', 'year03', 'unnamed:_30', \n",
    "                  'profes04','award04', 'country04','year04' ]][:2].T[:10]"
   ]
  },
  {
   "cell_type": "code",
   "execution_count": null,
   "metadata": {},
   "outputs": [],
   "source": [
    "# Rename columns to more useful \n",
    "df = df.rename(columns={\n",
    "    'first_qualification': 'concat_degree2', 'profes': 'degree_degree2', 'award': 'program_degree2', 'country': 'country_degree2','year': 'year_degree2',\n",
    "    'unnamed:_15': 'concat_degree2', 'profes01': 'degree_degree2', 'award01': 'program_degree2', 'country01': 'country_degree2', 'year01': 'year_degree2',\n",
    "    'unnamed:_20': 'concat_degree3', 'profes02': 'degree_degree3', 'award02': 'program_degree3', 'country02': 'country_degree3', 'year02': 'year_degree3',\n",
    "    'unnamed:_25': 'concat_degree4','profes03': 'degree_degree4','award03': 'program_degree4','country03': 'country_degree4','year03': 'year_degree4',\n",
    "    'unnamed:_30': 'concat_degree5', 'profes04': 'degree_degree5', 'award04': 'program_degree5', 'country04': 'country_degree5', 'year04': 'year_degree5'\n",
    "})\n",
    "\n",
    "# Confirm rename\n",
    "df.head(5)"
   ]
  },
  {
   "cell_type": "code",
   "execution_count": null,
   "metadata": {},
   "outputs": [],
   "source": [
    "# They added columns to differentiate specialties. These need to be removed. Let's see if they have any other info\n",
    "df[df.surname.isnull()][[\"reg_no\",\"surname\", \"other_name\", \"sex\"]].head()\n",
    "\n",
    "# Remove those rows\n",
    "df = df[df.surname.notnull()]\n",
    "df.head(2)"
   ]
  },
  {
   "cell_type": "code",
   "execution_count": null,
   "metadata": {},
   "outputs": [],
   "source": [
    "# Look for missing values in key fields\n",
    "df[['reg_no', 'surname', 'other_name', 'sex']].isnull().any()"
   ]
  },
  {
   "cell_type": "code",
   "execution_count": null,
   "metadata": {},
   "outputs": [],
   "source": [
    "# Freq table for where people work\n",
    "d = df['employer'].value_counts()[:10]\n",
    "print d"
   ]
  },
  {
   "cell_type": "code",
   "execution_count": null,
   "metadata": {},
   "outputs": [],
   "source": [
    "%matplotlib inline\n",
    "plt.figure();\n",
    "d.plot.hist(alpha=0.5)"
   ]
  },
  {
   "cell_type": "code",
   "execution_count": null,
   "metadata": {},
   "outputs": [],
   "source": []
  },
  {
   "cell_type": "code",
   "execution_count": null,
   "metadata": {},
   "outputs": [],
   "source": []
  },
  {
   "cell_type": "code",
   "execution_count": null,
   "metadata": {},
   "outputs": [],
   "source": []
  },
  {
   "cell_type": "code",
   "execution_count": null,
   "metadata": {},
   "outputs": [],
   "source": []
  },
  {
   "cell_type": "code",
   "execution_count": null,
   "metadata": {},
   "outputs": [],
   "source": []
  },
  {
   "cell_type": "code",
   "execution_count": null,
   "metadata": {},
   "outputs": [],
   "source": []
  },
  {
   "cell_type": "markdown",
   "metadata": {},
   "source": [
    "# References\n",
    "---------------------------\n",
    "\n",
    "<div id=\"refs\" class=\"references\">\n",
    "<div id=\"ref-aau2018\" stlye=\"margin-top:10px\">\n",
    "<p> --- aau2018 --- Association of Anesthesiologist of Uganda. (2018). Bachelors of science in anaesthesia. Retrieved from <a href=\"http://www.anesthesiaug.org/bachelors/\" class=\"uri\">http://www.anesthesiaug.org/bachelors/</a></p>\n",
    "</div>\n",
    "<div id=\"ref-ahpcschools2016\">\n",
    "<p> --- ahpcschools2016 --- uganda allied health professionals council. (2016). AHPC recognized training institutions 2016. Retrieved from <a href=\"http://www.ahpc.ug/schools.php\" class=\"uri\">http://www.ahpc.ug/schools.php</a></p>\n",
    "</div>\n",
    "<div id=\"ref-Banerjee2005Mar\">\n",
    "<p> --- Banerjee2005Mar --- Banerjee, S., Faiz, O., Rennie, J. A., Balyejjusa, J., &amp; Walsh, M. (2005). Bridging the health gap in Uganda: The surgical role of the clinical officer. <em>Afr. Health Sci.</em>, <em>5</em>(1), 86–89. Retrieved from <a href=\"http://www.ncbi.nlm.nih.gov/pmc/articles/PMC1831898\" class=\"uri\">http://www.ncbi.nlm.nih.gov/pmc/articles/PMC1831898</a></p>\n",
    "</div>\n",
    "<div id=\"ref-dsco2012\">\n",
    "<p> --- dsco2012 --- DISTRICT SERVICE COMMISSIONS OF UGANDA. (2012). DISTRICT service commissions of uganda health vacancies. DISTRICT SERVICE COMMISSIONS OF UGANDA. Retrieved from <a href=\"http://health.go.ug/docs/final_advert.pdf\" class=\"uri\">http://health.go.ug/docs/final_advert.pdf</a></p>\n",
    "</div>\n",
    "<div id=\"ref-examboard2015\">\n",
    "<p> --- examboard2015 --- Uganda Allied Health Examinations Board. (2015). Newsletter. Retrieved from <a href=\"http://uaheb.go.ug/wp-content/uploads/2016/06/Newsletter.pdf\" class=\"uri\">http://uaheb.go.ug/wp-content/uploads/2016/06/Newsletter.pdf</a></p>\n",
    "</div>\n",
    "<div id=\"ref-examboardschools\">\n",
    "<p> --- examboardschools --- Uganda Allied Health Examinations Board. (2018). Accredited school. Retrieved from <a href=\"http://uaheb.go.ug/accredited-schools/\" class=\"uri\">http://uaheb.go.ug/accredited-schools/</a></p>\n",
    "</div>\n",
    "<div id=\"ref-hcsurvey2014\">\n",
    "<p> --- hcsurvey2014 --- African Development Bank, M. W. (2014). Uganda hospital and health centre iv census survey. Retrieved from <a href=\"http://www.who.int/healthinfo/systems/SARA_H_UGA_Results_2014.pdf\" class=\"uri\">http://www.who.int/healthinfo/systems/SARA_H_UGA_Results_2014.pdf</a></p>\n",
    "</div>\n",
    "<div id=\"ref-intra2015\">\n",
    "<p> --- intra2015 --- Vincent Oketcho, J. O., Isaac Ezati. (2015). UGANDA on track for keeping human resources for health commitments. Retrieved from <a href=\"http://www.who.int/workforcealliance/media/news/2015/HRH_Commitments_Uganda_Case_Study.pdf\" class=\"uri\">http://www.who.int/workforcealliance/media/news/2015/HRH_Commitments_Uganda_Case_Study.pdf</a></p>\n",
    "</div>\n",
    "<div id=\"ref-kakande2011review\">\n",
    "<p> --- kakande2011review --- Kakande, I., Mkandawire, N., &amp; Thompson, M. (2011). A review of surgical capacity and surgical education programmes in the cosecsa region. <em>East and Central African Journal of Surgery</em>, <em>16</em>(3), 6–34. Retrieved from <a href=\"http://www.bioline.org.br/request?js11047\" class=\"uri\">http://www.bioline.org.br/request?js11047</a></p>\n",
    "</div>\n",
    "<div id=\"ref-Klopper2012-pp\">\n",
    "<p> --- Klopper2012-pp --- Klopper, H., &amp; Uys, L. R. (2012). <em>The State of Nursing and Nursing Education in Africa: A {Country-By-Country} Review</em>. Sigma Theta Tau.</p>\n",
    "</div>\n",
    "<div id=\"ref-lacoranes2018\">\n",
    "<p> --- lacoranes2018 --- Lacor School of Anesthesia. (2018). Lacor school of anesthesia. Retrieved from <a href=\"http://mambosms.ug/Data/atha/lacorh/?page_id=7346\" class=\"uri\">http://mambosms.ug/Data/atha/lacorh/?page_id=7346</a></p>\n",
    "</div>\n",
    "<div id=\"ref-Linden2012-sw\">\n",
    "<p> --- Linden2012-sw --- Linden, A. F., Sekidde, F. S., Galukande, M., Knowlton, L. M., Chackungal, S., &amp; McQueen, K. A. K. (2012). Challenges of surgery in developing countries: a survey of surgical and anesthesia capacity in Uganda’s public hospitals. <em>World J. Surg.</em>, <em>36</em>(5), 1056–1065.</p>\n",
    "</div>\n",
    "<div id=\"ref-mak2018\">\n",
    "<p> --- mak2018 --- Makarere University. (n.d.). Application requirements - direct entry. Retrieved from <a href=\"https://www.mak.ac.ug/application-procedures/direct-entry\" class=\"uri\">https://www.mak.ac.ug/application-procedures/direct-entry</a></p>\n",
    "</div>\n",
    "<div id=\"ref-MOH-hosp-list\">\n",
    "<p> --- MOH-hosp-list --- Ministry of Health. (2018). List of Hospitals. Retrieved from <a href=\"http://health.go.ug/affiliated-institutions/hospitals\" class=\"uri\">http://health.go.ug/affiliated-institutions/hospitals</a></p>\n",
    "</div>\n",
    "<div id=\"ref-mohscholar2017\">\n",
    "<p> --- mohscholar2017 --- Ministry of Health. (2017). ANNOUNCEMENT of scholarships for academic year 2017/2018. Retrieved from <a href=\"https://www.mnh.musph.ac.ug/wp-content/uploads/2016/10/MIN-OF-HEALTH.-scholarships.pdf\" class=\"uri\">https://www.mnh.musph.ac.ug/wp-content/uploads/2016/10/MIN-OF-HEALTH.-scholarships.pdf</a></p>\n",
    "</div>\n",
    "<div id=\"ref-mugalopara2013\">\n",
    "<p> --- mugalopara2013 --- Uganda Allied Health Institute and Management Sciences Mugalo. (2018). Post-basic programs uganda allied health institute and management sciences mugalo. Retrieved from <a href=\"http://uiahms.ac.ug/anaesthesia/\" class=\"uri\">http://uiahms.ac.ug/anaesthesia/</a></p>\n",
    "</div>\n",
    "<div id=\"ref-must2014\">\n",
    "<p> --- must2014 --- Mbarara University of Science and Technology. (n.d.). Admission Requirements. Retrieved from <a href=\"http://www.must.ac.ug/news/2014-must-private-admissions-advert\" class=\"uri\">http://www.must.ac.ug/news/2014-must-private-admissions-advert</a></p>\n",
    "</div>\n",
    "<div id=\"ref-roth2014role\">\n",
    "<p> --- roth2014role --- Roth, R., Frost, E. A., Gevirtz, C., &amp; Atcheson, C. L. (2014). <em>The role of anesthesiology in global health: A comprehensive guide</em>. Springer.</p>\n",
    "</div>\n",
    "<div id=\"ref-UBS2017\">\n",
    "<p> --- UBS2017 --- Ugandan Bureau of Statistics. (2017). Statistical Abstract.</p>\n",
    "</div>\n",
    "<div id=\"ref-umdpc2018reg\">\n",
    "<p> --- umdpc2018reg --- Uganda Medical and Dental Practitioners Council. (n.d.). Uganda medical and dental practitioners council registry. Retrieved from <a href=\"http://www.umdpc.com/registers.php\" class=\"uri\">http://www.umdpc.com/registers.php</a></p>\n",
    "</div>\n",
    "<div id=\"ref-UNFPA2009\">\n",
    "<p> --- UNFPA2009 --- United Nations Fund for Population Activities. (2009). The State of Midwifery Training, Service and Practice in Uganda Assessment Report, (July), 1–92.</p>\n",
    "</div>\n",
    "</div>"
   ]
  },
  {
   "cell_type": "markdown",
   "metadata": {},
   "source": [
    "The remaining is code snippets for later."
   ]
  },
  {
   "cell_type": "code",
   "execution_count": null,
   "metadata": {},
   "outputs": [],
   "source": [
    "def cstr(s, color='black'):\n",
    "    return \"<text style=color:{}>{}</text>\".format(color, s)\n",
    "\n",
    "# import pprint\n",
    "# pp = pprint.PrettyPrinter(depth=1)\n",
    "# pp.pprint(list(df.columns.astype(str)))"
   ]
  }
 ],
 "metadata": {
  "celltoolbar": "Edit Metadata",
  "kernelspec": {
   "display_name": "Python 2",
   "language": "python",
   "name": "python2"
  },
  "language_info": {
   "codemirror_mode": {
    "name": "ipython",
    "version": 2
   },
   "file_extension": ".py",
   "mimetype": "text/x-python",
   "name": "python",
   "nbconvert_exporter": "python",
   "pygments_lexer": "ipython2",
   "version": "2.7.10"
  }
 },
 "nbformat": 4,
 "nbformat_minor": 2
}
